{
 "cells": [
  {
   "cell_type": "code",
   "execution_count": 1,
   "metadata": {
    "collapsed": true,
    "deletable": true,
    "editable": true
   },
   "outputs": [],
   "source": [
    "import matplotlib.pyplot as plt\n",
    "import numpy as np\n",
    "from sklearn.datasets import fetch_mldata\n",
    "from chainer import cuda, Variable, FunctionSet, optimizers\n",
    "import chainer.functions as F\n",
    "import sys\n",
    "\n",
    "%matplotlib inline\n",
    "plt.style.use('ggplot')"
   ]
  },
  {
   "cell_type": "code",
   "execution_count": 2,
   "metadata": {
    "collapsed": false,
    "deletable": true,
    "editable": true
   },
   "outputs": [
    {
     "name": "stdout",
     "output_type": "stream",
     "text": [
      "fetch MNIST dataset\n"
     ]
    }
   ],
   "source": [
    "# 確率的勾配法で学習させる際の一回分のバッチサイズ\n",
    "batchsize = 100\n",
    "\n",
    "# 学習の繰り返し回数\n",
    "n_epoch = 20\n",
    "\n",
    "# 中間層の数\n",
    "n_units = 1000\n",
    "\n",
    "# データ\n",
    "# #HOME/sickit_learn_data/mdlata/mnist-original.mat にキャッシュされる\n",
    "print('fetch MNIST dataset')\n",
    "mnist = fetch_mldata('MNIST original')\n",
    "# mnist.data : 70,000件の784次元ベクトルデータ\n",
    "mnist.data = mnist.data.astype(np.float32)\n",
    "mnist.data /= 255 # 0-1のデータに変更\n",
    "\n",
    "# mnist.target: 正解データ（教師データ）\n",
    "mnist.target = mnist.target.astype(np.int32)"
   ]
  },
  {
   "cell_type": "code",
   "execution_count": 7,
   "metadata": {
    "collapsed": false,
    "deletable": true,
    "editable": true
   },
   "outputs": [
    {
     "data": {
      "image/png": "[encoded data removed]",
      "text/plain": [
       "<matplotlib.figure.Figure at 0x11e780668>"
      ]
     },
     "metadata": {},
     "output_type": "display_data"
    }
   ],
   "source": [
    "# 手書き数字データを描画する関数\n",
    "def draw_digit(data):\n",
    "    size = 28\n",
    "    plt.figure(figsize=(2.5, 3))\n",
    "    \n",
    "    X, Y = np.meshgrid(range(size), range(size))\n",
    "    Z = data.reshape(size, size) # convert from vector to 28×28 metrix\n",
    "#     Z = Z[::-1,:] # flip verticle\n",
    "    plt.xlim(0,27)\n",
    "    plt.ylim(0,27)\n",
    "    plt.pcolor(X, Y, Z)\n",
    "    plt.gray()\n",
    "    plt.tick_params(labelbottom=\"off\")\n",
    "    plt.tick_params(labelleft=\"off\")\n",
    "    \n",
    "    plt.show()\n",
    "    \n",
    "draw_digit(mnist.data[5])"
   ]
  },
  {
   "cell_type": "code",
   "execution_count": null,
   "metadata": {
    "collapsed": true
   },
   "outputs": [],
   "source": []
  }
 ],
 "metadata": {
  "anaconda-cloud": {},
  "kernelspec": {
   "display_name": "Python [conda root]",
   "language": "python",
   "name": "conda-root-py"
  },
  "language_info": {
   "codemirror_mode": {
    "name": "ipython",
    "version": 3
   },
   "file_extension": ".py",
   "mimetype": "text/x-python",
   "name": "python",
   "nbconvert_exporter": "python",
   "pygments_lexer": "ipython3",
   "version": "3.5.3"
  }
 },
 "nbformat": 4,
 "nbformat_minor": 0
}
